{
 "cells": [
  {
   "cell_type": "code",
   "execution_count": 11,
   "metadata": {},
   "outputs": [],
   "source": [
    "from bs4 import BeautifulSoup\n",
    "from splinter import Browser\n",
    "from webdriver_manager.chrome import ChromeDriverManager\n",
    "import time\n",
    "import datetime\n",
    "import pandas as pd"
   ]
  },
  {
   "cell_type": "code",
   "execution_count": null,
   "metadata": {},
   "outputs": [],
   "source": [
    "!which chromedriver"
   ]
  },
  {
   "cell_type": "code",
   "execution_count": 2,
   "metadata": {},
   "outputs": [
    {
     "name": "stderr",
     "output_type": "stream",
     "text": [
      "[WDM] - Current google-chrome version is 83.0.4103\n",
      "[WDM] - Get LATEST driver version for 83.0.4103\n",
      "[WDM] - Get LATEST driver version for 83.0.4103\n",
      "[WDM] - Trying to download new driver from http://chromedriver.storage.googleapis.com/83.0.4103.39/chromedriver_mac64.zip\n"
     ]
    },
    {
     "name": "stdout",
     "output_type": "stream",
     "text": [
      " \n"
     ]
    },
    {
     "name": "stderr",
     "output_type": "stream",
     "text": [
      "[WDM] - Driver has been saved in cache [/Users/abby/.wdm/drivers/chromedriver/mac64/83.0.4103.39]\n"
     ]
    }
   ],
   "source": [
    "executable_path = {'executable_path': ChromeDriverManager().install()}\n",
    "# browser = Browser('chrome', **executable_path)\n",
    "browser = Browser('chrome', **executable_path, headless=False)\n",
    "# browser = Browser('chrome')"
   ]
  },
  {
   "cell_type": "code",
   "execution_count": 3,
   "metadata": {},
   "outputs": [],
   "source": [
    "base_url = 'https://www.walmart.com'\n",
    "search_url = '/search/?query=room%20air%20purifier'\n",
    "browser.visit(base_url + search_url)"
   ]
  },
  {
   "cell_type": "code",
   "execution_count": 4,
   "metadata": {},
   "outputs": [],
   "source": [
    "html = browser.html\n",
    "soup = BeautifulSoup(html, 'html.parser')"
   ]
  },
  {
   "cell_type": "code",
   "execution_count": 5,
   "metadata": {},
   "outputs": [],
   "source": [
    "products = soup.find_all('div', class_='search-result-gridview-item')"
   ]
  },
  {
   "cell_type": "code",
   "execution_count": 16,
   "metadata": {},
   "outputs": [
    {
     "name": "stdout",
     "output_type": "stream",
     "text": [
      "Title: 40 URL: 40 Image: 40\n",
      "Stars: 40 Reviews: 40 URL: 40\n",
      "Price: 40\n"
     ]
    },
    {
     "data": {
      "text/html": [
       "<div>\n",
       "<style scoped>\n",
       "    .dataframe tbody tr th:only-of-type {\n",
       "        vertical-align: middle;\n",
       "    }\n",
       "\n",
       "    .dataframe tbody tr th {\n",
       "        vertical-align: top;\n",
       "    }\n",
       "\n",
       "    .dataframe thead th {\n",
       "        text-align: right;\n",
       "    }\n",
       "</style>\n",
       "<table border=\"1\" class=\"dataframe\">\n",
       "  <thead>\n",
       "    <tr style=\"text-align: right;\">\n",
       "      <th></th>\n",
       "      <th>Title</th>\n",
       "      <th>URL</th>\n",
       "      <th>Image</th>\n",
       "      <th>NumberOfStars</th>\n",
       "      <th>NumberofReviews</th>\n",
       "      <th>ReviewsURL</th>\n",
       "      <th>Price</th>\n",
       "    </tr>\n",
       "  </thead>\n",
       "  <tbody>\n",
       "    <tr>\n",
       "      <th>0</th>\n",
       "      <td>Filtrete by 3M Room Air Purifier, Console, 110...</td>\n",
       "      <td>https://www.walmart.com/ip/Filtrete-by-3M-Room...</td>\n",
       "      <td>https://i5.walmartimages.com/asr/eae28c2f-5dbe...</td>\n",
       "      <td>4.5</td>\n",
       "      <td>184</td>\n",
       "      <td>/ip/Filtrete-by-3M-Room-Air-Purifier-Console-1...</td>\n",
       "      <td>$49.94</td>\n",
       "    </tr>\n",
       "    <tr>\n",
       "      <th>1</th>\n",
       "      <td>Holmes Personal Space 2-Speed Air Purifier wit...</td>\n",
       "      <td>https://www.walmart.com/ip/Holmes-Personal-Spa...</td>\n",
       "      <td>https://i5.walmartimages.com/asr/ca7e3b65-d3c8...</td>\n",
       "      <td>4.3</td>\n",
       "      <td>510</td>\n",
       "      <td>/ip/Holmes-Personal-Space-2-Speed-Air-Purifier...</td>\n",
       "      <td>$14.98</td>\n",
       "    </tr>\n",
       "    <tr>\n",
       "      <th>2</th>\n",
       "      <td>Holmes Desktop HEPA Air Purifier with Visipure...</td>\n",
       "      <td>https://www.walmart.com/ip/Holmes-Desktop-HEPA...</td>\n",
       "      <td>https://i5.walmartimages.com/asr/22b30c76-a2a4...</td>\n",
       "      <td>4.5</td>\n",
       "      <td>58</td>\n",
       "      <td>/ip/Holmes-Desktop-HEPA-Air-Purifier-with-Visi...</td>\n",
       "      <td>$32.88</td>\n",
       "    </tr>\n",
       "    <tr>\n",
       "      <th>3</th>\n",
       "      <td>High-Efficiency HEPA-Type Desktop Air Purifier...</td>\n",
       "      <td>https://www.walmart.com/ip/High-Efficiency-HEP...</td>\n",
       "      <td>https://i5.walmartimages.com/asr/5ba9740e-a3f1...</td>\n",
       "      <td>4.4</td>\n",
       "      <td>136</td>\n",
       "      <td>/ip/High-Efficiency-HEPA-Type-Desktop-Air-Puri...</td>\n",
       "      <td>$49.69</td>\n",
       "    </tr>\n",
       "    <tr>\n",
       "      <th>4</th>\n",
       "      <td>Winix 5500-2 Air Cleaner with PlasmaWave Techn...</td>\n",
       "      <td>https://www.walmart.com/ip/Winix-5500-2-Air-Cl...</td>\n",
       "      <td>https://i5.walmartimages.com/asr/7e1f8414-d0c2...</td>\n",
       "      <td>4.7</td>\n",
       "      <td>86</td>\n",
       "      <td>/ip/Winix-5500-2-Air-Cleaner-with-PlasmaWave-T...</td>\n",
       "      <td>$159.99</td>\n",
       "    </tr>\n",
       "  </tbody>\n",
       "</table>\n",
       "</div>"
      ],
      "text/plain": [
       "                                               Title  \\\n",
       "0  Filtrete by 3M Room Air Purifier, Console, 110...   \n",
       "1  Holmes Personal Space 2-Speed Air Purifier wit...   \n",
       "2  Holmes Desktop HEPA Air Purifier with Visipure...   \n",
       "3  High-Efficiency HEPA-Type Desktop Air Purifier...   \n",
       "4  Winix 5500-2 Air Cleaner with PlasmaWave Techn...   \n",
       "\n",
       "                                                 URL  \\\n",
       "0  https://www.walmart.com/ip/Filtrete-by-3M-Room...   \n",
       "1  https://www.walmart.com/ip/Holmes-Personal-Spa...   \n",
       "2  https://www.walmart.com/ip/Holmes-Desktop-HEPA...   \n",
       "3  https://www.walmart.com/ip/High-Efficiency-HEP...   \n",
       "4  https://www.walmart.com/ip/Winix-5500-2-Air-Cl...   \n",
       "\n",
       "                                               Image NumberOfStars  \\\n",
       "0  https://i5.walmartimages.com/asr/eae28c2f-5dbe...           4.5   \n",
       "1  https://i5.walmartimages.com/asr/ca7e3b65-d3c8...           4.3   \n",
       "2  https://i5.walmartimages.com/asr/22b30c76-a2a4...           4.5   \n",
       "3  https://i5.walmartimages.com/asr/5ba9740e-a3f1...           4.4   \n",
       "4  https://i5.walmartimages.com/asr/7e1f8414-d0c2...           4.7   \n",
       "\n",
       "  NumberofReviews                                         ReviewsURL    Price  \n",
       "0             184  /ip/Filtrete-by-3M-Room-Air-Purifier-Console-1...   $49.94  \n",
       "1             510  /ip/Holmes-Personal-Space-2-Speed-Air-Purifier...   $14.98  \n",
       "2              58  /ip/Holmes-Desktop-HEPA-Air-Purifier-with-Visi...   $32.88  \n",
       "3             136  /ip/High-Efficiency-HEPA-Type-Desktop-Air-Puri...   $49.69  \n",
       "4              86  /ip/Winix-5500-2-Air-Cleaner-with-PlasmaWave-T...  $159.99  "
      ]
     },
     "execution_count": 16,
     "metadata": {},
     "output_type": "execute_result"
    }
   ],
   "source": [
    "# Create empty lists for scraped data to be stored in.\n",
    "productURL_list = []\n",
    "productImage_list = []\n",
    "productTitle_list = []\n",
    "starReview_list = []\n",
    "reviewAmount_list = []\n",
    "currentPrice_list = []\n",
    "reviewURL_list = []\n",
    "\n",
    "\n",
    "today = datetime.datetime.now()\n",
    "\n",
    "for product in products:\n",
    "\n",
    "    # Get the link to the product page.\n",
    "    link = product.find('a')\n",
    "    href = link['href']\n",
    "    product_url = base_url + href\n",
    "    productURL_list.append(product_url)\n",
    "\n",
    "    # Get the link to the product image.\n",
    "    img = product.find('img')['src']\n",
    "    productImage_list.append(img)\n",
    "\n",
    "    # Get the product title.\n",
    "    product_title = product.find('img')['alt']\n",
    "    productTitle_list.append(product_title)\n",
    "\n",
    "    # Try to get the number of reviews, there may not be any.\n",
    "    try:\n",
    "        review_amount = product.find('span', class_='seo-review-count visuallyhidden').text\n",
    "        reviewAmount_list.append(review_amount)\n",
    "        \n",
    "    except:\n",
    "        review_amount = 0\n",
    "        reviewAmount_list.append(review_amount)\n",
    "\n",
    "    # In the case where there are at least one review...\n",
    "    if int(review_amount) > 0:\n",
    "        # Get the average number of stars\n",
    "        stars_review = product.find('span', class_='visuallyhidden seo-avg-rating').text   \n",
    "        starReview_list.append(stars_review)\n",
    "        \n",
    "        # Get the URL to the reviews section for that product.\n",
    "        review_url = product.find('div', class_='stars').find('a')['href']\n",
    "        reviewURL_list.append(review_url)\n",
    "\n",
    "    # Otherwise, use defalt 0 or NaN values for these entries.\n",
    "    else:\n",
    "        stars_review = 0\n",
    "        starReview_list.append(stars_review)\n",
    "        \n",
    "        review_url = \"NaN\"\n",
    "        reviewURL_list.append(review_url)\n",
    "        \n",
    "    # Get the price of the product.\n",
    "    price = product.find('span', class_='price-main')\n",
    "    current_price = price.find('span', class_='visuallyhidden').text\n",
    "    currentPrice_list.append(current_price)\n",
    "    \n",
    "# Close the browser window\n",
    "# browser.quit()\n",
    "    \n",
    "# Create a dictionary with the lists of the scrapped data.\n",
    "data = {\n",
    "    \"Title\": productTitle_list,\n",
    "    \"URL\": productURL_list,\n",
    "    \"Image\": productImage_list,\n",
    "    \"NumberOfStars\": starReview_list,\n",
    "    \"NumberofReviews\": reviewAmount_list,\n",
    "    \"ReviewsURL\": reviewURL_list,\n",
    "    \"Price\": currentPrice_list\n",
    "       }\n",
    "\n",
    "# Create a Pandas DataFrame with that dictionary\n",
    "product_df = pd.DataFrame.from_dict(data)\n",
    "product_df.head()"
   ]
  },
  {
   "cell_type": "code",
   "execution_count": null,
   "metadata": {},
   "outputs": [],
   "source": [
    "browser.visit(product_url)\n",
    "html = browser.html\n",
    "soup = BeautifulSoup(html, 'html.parser')"
   ]
  },
  {
   "cell_type": "code",
   "execution_count": null,
   "metadata": {},
   "outputs": [],
   "source": [
    "soup"
   ]
  },
  {
   "cell_type": "code",
   "execution_count": null,
   "metadata": {},
   "outputs": [],
   "source": []
  },
  {
   "cell_type": "code",
   "execution_count": null,
   "metadata": {},
   "outputs": [],
   "source": [
    "soup.execute_script(\"window.scrollTo(0, document.body.scrollHeight);\")"
   ]
  }
 ],
 "metadata": {
  "kernelspec": {
   "display_name": "Python 3",
   "language": "python",
   "name": "python3"
  },
  "language_info": {
   "codemirror_mode": {
    "name": "ipython",
    "version": 3
   },
   "file_extension": ".py",
   "mimetype": "text/x-python",
   "name": "python",
   "nbconvert_exporter": "python",
   "pygments_lexer": "ipython3",
   "version": "3.6.9"
  }
 },
 "nbformat": 4,
 "nbformat_minor": 2
}
