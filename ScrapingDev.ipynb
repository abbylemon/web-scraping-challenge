{
 "cells": [
  {
   "cell_type": "code",
   "execution_count": 9,
   "metadata": {},
   "outputs": [],
   "source": [
    "from bs4 import BeautifulSoup\n",
    "from splinter import Browser\n",
    "from webdriver_manager.chrome import ChromeDriverManager\n",
    "import times"
   ]
  },
  {
   "cell_type": "code",
   "execution_count": 2,
   "metadata": {},
   "outputs": [
    {
     "name": "stdout",
     "output_type": "stream",
     "text": [
      "/usr/local/bin/chromedriver\r\n"
     ]
    }
   ],
   "source": [
    "!which chromedriver"
   ]
  },
  {
   "cell_type": "code",
   "execution_count": 18,
   "metadata": {},
   "outputs": [
    {
     "name": "stderr",
     "output_type": "stream",
     "text": [
      "[WDM] - Current google-chrome version is 83.0.4103\n",
      "[WDM] - Get LATEST driver version for 83.0.4103\n",
      "[WDM] - Driver [/Users/abby/.wdm/drivers/chromedriver/mac64/83.0.4103.39/chromedriver] found in cache\n"
     ]
    },
    {
     "name": "stdout",
     "output_type": "stream",
     "text": [
      " \n"
     ]
    }
   ],
   "source": [
    "executable_path = {'executable_path': ChromeDriverManager().install()}\n",
    "browser = Browser('chrome', **executable_path)\n",
    "browser = Browser('chrome', **executable_path, headless=False)\n",
    "# browser = Browser('chrome')"
   ]
  },
  {
   "cell_type": "code",
   "execution_count": 19,
   "metadata": {},
   "outputs": [],
   "source": [
    "url = 'https://www.walmart.com/search/?query=room%20air%20purifier'\n",
    "browser.visit(url)"
   ]
  },
  {
   "cell_type": "code",
   "execution_count": 20,
   "metadata": {},
   "outputs": [],
   "source": [
    "html = browser.html\n",
    "soup = BeautifulSoup(html, 'html.parser')"
   ]
  },
  {
   "cell_type": "code",
   "execution_count": 21,
   "metadata": {},
   "outputs": [],
   "source": [
    "products = soup.find_all('div', class_='search-result-gridview-item')"
   ]
  },
  {
   "cell_type": "code",
   "execution_count": 28,
   "metadata": {},
   "outputs": [
    {
     "name": "stdout",
     "output_type": "stream",
     "text": [
      "https://www.walmart.com/ip/Filtrete-by-3M-Room-Air-Purifier-Console-110-Sq-ft-coverage-Black-HEPA-Type-Allergen-Filter-Included/475820314\n",
      "https://i5.walmartimages.com/asr/eae28c2f-5dbe-4a96-b30c-c381a64b056e_1.572259f55119e41bb4d69602667a85b0.jpeg?odnHeight=200&odnWidth=200&odnBg=ffffff\n",
      "Filtrete by 3M Room Air Purifier, Console, 110 Sq ft coverage, Black, HEPA-Type Allergen Filter Included\n",
      "4.5\n",
      "170 reviews\n",
      "$49.94\n",
      "https://www.walmart.com/ip/Holmes-Personal-Space-2-Speed-Air-Purifier-with-Air-Ionizer/21930737\n",
      "https://i5.walmartimages.com/asr/ca7e3b65-d3c8-4a77-9d6a-374597c5721b_1.848425fbf63f21552e8afc8a06855be7.jpeg?odnHeight=200&odnWidth=200&odnBg=ffffff\n",
      "Holmes Personal Space 2-Speed Air Purifier with Air Ionizer\n",
      "4.3\n",
      "485 reviews\n",
      "$14.98\n",
      "https://www.walmart.com/ip/Honeywell-HEPA-Allergen-Remover-Air-Purifier-Reduces-up-to-99-9-of-certain-viruses-bacteria-and-mold-spores-HPA300-Black/37770927\n",
      "https://i5.walmartimages.com/asr/3574cc6b-93c9-4c02-89c2-6756d204fe09_1.7e49f59e7cbf1e7f786efa3a5d450e56.jpeg?odnHeight=200&odnWidth=200&odnBg=ffffff\n",
      "Honeywell HEPA Allergen Remover Air Purifier, Reduces up to 99.9% of certain viruses, bacteria and mold spores*, HPA300, Black\n",
      "4.6\n",
      "231 reviews\n",
      "$216.58\n",
      "https://www.walmart.com/ip/Holmes-Desktop-HEPA-Air-Purifier-with-Visipure-Filter-Viewing-Window/790166406\n",
      "https://i5.walmartimages.com/asr/22b30c76-a2a4-477e-b658-8e9b0fbba6d3_1.173155aa350e6c1c35f497498ba5d7ce.jpeg?odnHeight=200&odnWidth=200&odnBg=ffffff\n",
      "Holmes Desktop HEPA Air Purifier with Visipure Filter Viewing Window\n",
      "4.4\n",
      "50 reviews\n",
      "$32.88\n",
      "https://www.walmart.com/ip/Filtrete-by-3M-Room-Air-Purifier-Medium-Room-Console-160-Sq-ft-Coverage-Black-HEPA-Type-Allergen-Filter-Included/127887719\n",
      "https://i5.walmartimages.com/asr/610a6cda-e89f-45a7-ad21-17c6c7a290db_1.ef36004d17708544b33aa0b32566df69.jpeg?odnHeight=200&odnWidth=200&odnBg=ffffff\n",
      "Filtrete by 3M Room Air Purifier, Medium Room Console, 160 Sq ft Coverage, Black, HEPA-Type Allergen Filter Included\n",
      "4.6\n",
      "74 reviews\n",
      "$79.88\n",
      "https://www.walmart.com/ip/High-Efficiency-HEPA-Type-Desktop-Air-Purifier-Carbon-Filter-110-Square-Foot-Room-Capacity-Three-Speed-HAP242-UC/14590699\n",
      "https://i5.walmartimages.com/asr/5ba9740e-a3f1-4f49-81e5-863f844adf57_1.3f59ddeb6f086de3407c9afa81f3c903.jpeg?odnHeight=200&odnWidth=200&odnBg=ffffff\n",
      "High-Efficiency HEPA-Type Desktop Air Purifier, Carbon Filter, 110 Square Foot Room Capacity, Three Speed (HAP242-UC)\n",
      "4.4\n",
      "136 reviews\n",
      "$50.63\n",
      "https://www.walmart.com/ip/Winix-5500-2-Air-Cleaner-with-PlasmaWave-Technology/53083624\n",
      "https://i5.walmartimages.com/asr/7e1f8414-d0c2-418f-aaf3-c621bed11b06_1.90b25fcbce576b7dfd45c66a0ca9b2a5.jpeg?odnHeight=200&odnWidth=200&odnBg=ffffff\n",
      "Winix 5500-2 Air Cleaner with PlasmaWave Technology\n",
      "4.7\n",
      "70 reviews\n",
      "$159.99\n",
      "https://www.walmart.com/ip/Envion-Therapure-240M-UV-Germicidal-HEPA-Style-Air-Purifier-Black/20923986\n",
      "https://i5.walmartimages.com/asr/4166697e-2eb7-48a7-b40c-a4b93a80536b.288caf11c1733ca899fbb5f701aec642.jpeg?odnHeight=200&odnWidth=200&odnBg=ffffff\n",
      "Envion Therapure 240M, UV Germicidal HEPA Style Air Purifier, Black\n",
      "4.5\n",
      "89 reviews\n",
      "$202.93\n",
      "https://www.walmart.com/ip/TENDOMI-WiFi-Smart-Air-Purifier-True-HEPA-Filter-Table-Cleaner-Room-Home-Office-Large-Room-Allergies-Dust-Smoke-Pets-Smokers-Odor-Eliminator/189222017\n",
      "https://i5.walmartimages.com/asr/a4b27232-85c0-4c5c-808d-d6968cff6953_1.aa02ed56a4cb4b4a925e361d53ae8726.jpeg?odnHeight=200&odnWidth=200&odnBg=ffffff\n",
      "TENDOMI WiFi Smart Air Purifier with True HEPA Filter, Table HEPA Air Cleaner Purifier for Room Home Office, Large Room, Allergies, Dust, Smoke, Pets, Smokers, Odor Eliminator\n",
      "4.5\n",
      "20 reviews\n",
      "$65.99\n",
      "https://www.walmart.com/ip/Air-Purifier-Home-5-Speed-Settings-3-Stage-Filtration-DC-Motor-Smokers-Dust-Pets-Pollen-Cleaner-High-CADR-130m-H-Night-Light-Bedroom-Office/550234373\n",
      "https://i5.walmartimages.com/asr/a319c563-f406-4242-a896-943c6f3ec73c_1.721567175daaedb9438775234e1582ca.jpeg?odnHeight=200&odnWidth=200&odnBg=ffffff\n",
      "Air Purifier for Home, 5 Speed Settings, 3 Stage Filtration, DC Motor for Smokers, Dust, Pets, Pollen, Air Cleaner with High CADR 130m/H, Night Light for Bedroom Office\n",
      "4.3\n",
      "63 reviews\n",
      "$69.99\n",
      "https://www.walmart.com/ip/GENIANI-Home-Air-Purifier-True-HEPA-Filter-Allergies-Pets-Smoke-Mold-Germs-Dust-Odor-Eliminator-Cleaner-Large-Room-Optional-Night-Light-2-Year-Warran/304247886\n",
      "https://i5.walmartimages.com/asr/e23d7edb-a061-4f6c-8660-829c36cd6e3b_1.bafe6d87b18eca20949ba071f09d65ad.jpeg?odnHeight=200&odnWidth=200&odnBg=ffffff\n",
      "GENIANI Home Air Purifier with True HEPA Filter for Allergies and Pets/Smoke/Mold/Germs and Dust - Odor Eliminator and Air Cleaner for Large Room with Optional Night Light - 2 Year Warranty\n",
      "4.7\n",
      "12 reviews\n",
      "$74.97\n",
      "https://www.walmart.com/ip/GermGuardian-Air-Purifier-Small-Room-Wall-Air-Sanitizer-with-UV-C-Light-Kills-Germs-GG1100B-7-Inch-Pluggable-BLACK/43123384\n",
      "https://i5.walmartimages.com/asr/86cd1906-bcae-4e50-a30d-451a1fced12c_2.0f07b73769ca9033299734623d033d65.jpeg?odnHeight=200&odnWidth=200&odnBg=ffffff\n",
      "GermGuardian Air Purifier, Small Room Wall Air Sanitizer with UV-C Light Kills Germs, GG1100B 7-Inch Pluggable, BLACK\n",
      "4.2\n",
      "19 reviews\n",
      "$39.99\n",
      "https://www.walmart.com/ip/True-HEPA-Large-Room-Air-Purifier-with-3-Speed-Settings/21970557\n",
      "https://i5.walmartimages.com/asr/a4b5235c-289e-496d-aae2-cd090b047dad_1.b05c49be2550fce012399cd1c05e645a.jpeg?odnHeight=200&odnWidth=200&odnBg=ffffff\n",
      "True HEPA Large Room Air Purifier with 3 Speed Settings\n",
      "4.3\n",
      "26 reviews\n",
      "$130.00\n",
      "https://www.walmart.com/ip/Filtrete-by-3M-Room-Air-Purifier-Large-Room-Tower-370-Sq-ft-Coverage-Black-True-HEPA-Filter-Included/673898756\n",
      "https://i5.walmartimages.com/asr/8a87346a-b21b-478e-bb5e-6bd7ad89d2fa_1.4cdea1539c444576e984429594efb129.jpeg?odnHeight=200&odnWidth=200&odnBg=ffffff\n",
      "Filtrete by 3M Room Air Purifier, Large Room Tower, 370 Sq ft Coverage, Black, True HEPA Filter Included\n",
      "4.1\n",
      "72 reviews\n",
      "$194.00\n",
      "https://www.walmart.com/ip/Air-Cleaner-Home-3-stages-filtration-True-Hepa-Filter-Purifier-Mosquito-Repellent-Tower-Fan-UV-Light-Capture-Allergens-Dust-Smoke-Removal-Room-Office/298961648\n",
      "https://i5.walmartimages.com/asr/cf1ff264-3662-4d96-b97d-0cb981b4ead0_1.c32950d5d3c0f7a2f711256d961a8266.gif?odnHeight=200&odnWidth=200&odnBg=ffffff\n",
      "Air Cleaner for Home, 3 stages filtration True Hepa Filter Air Purifier with Mosquito Repellent, Tower Fan, UV Light, Capture Allergens, Dust, Smoke Removal for Room and Office\n",
      "5.0\n",
      "1 reviews\n",
      "$65.99\n",
      "https://www.walmart.com/ip/BISSELL-myAir-Air-Purifier-for-Small-Rooms-2780A/124054878\n",
      "https://i5.walmartimages.com/asr/0f21a31a-e0cb-4682-a616-d0b430f31637_1.32033e95592bdc7527843301a600fde6.jpeg?odnHeight=200&odnWidth=200&odnBg=ffffff\n",
      "BISSELL myAir Air Purifier for Small Rooms, 2780A\n",
      "4.8\n",
      "225 reviews\n",
      "$89.99\n",
      "https://www.walmart.com/ip/Filtrete-F2-Bacteria-Virus-True-HEPA-Room-Air-Purifier-Filter/613534760\n",
      "https://i5.walmartimages.com/asr/dea94bac-be28-4f90-b739-1ff1e16c3dba.bac33bcd1722f7cf57efa66da508b43a.jpeg?odnHeight=200&odnWidth=200&odnBg=ffffff\n",
      "Filtrete F2 Bacteria & Virus True HEPA Room Air Purifier Filter\n",
      "4.8\n",
      "54 reviews\n",
      "$17.97\n",
      "https://www.walmart.com/ip/TENDOMI-Air-Purifier-True-HEPA-Filter-Table-Cleaner-Room-Home-Office-Large-Room-Allergies-Dust-Smoke-Pets-Smokers-Odor-Eliminator/650318861\n",
      "https://i5.walmartimages.com/asr/b8d77a47-cb24-4fa1-a81a-1d4cb0dd7041.791cd95603539b9e1ff1a4d78cb0c2a3.jpeg?odnHeight=200&odnWidth=200&odnBg=ffffff\n",
      "TENDOMI Air Purifier with True HEPA Filter, Table HEPA Air Cleaner Purifier for Room Home Office, Large Room, Allergies, Dust, Smoke, Pets, Smokers, Odor Eliminator\n",
      "4.8\n",
      "4 reviews\n",
      "$65.99\n",
      "https://www.walmart.com/ip/Winix-HR900-Ultimate-Pet-True-HEPA-Air-Purifier-with-PlasmaWave-Technology-300-sq-ft-Room-Capacity-White/568725742\n",
      "https://i5.walmartimages.com/asr/74cc777b-8d49-4746-b3fe-bb4132c05226.86f8723d30470771e88f677651158c01.jpeg?odnHeight=200&odnWidth=200&odnBg=ffffff\n",
      "Winix HR900 Ultimate Pet True HEPA Air Purifier with PlasmaWave Technology, 300 sq ft Room Capacity, White\n",
      "4.7\n",
      "3 reviews\n",
      "$188.59\n",
      "https://www.walmart.com/ip/WALFRONT-3L-Ultrasonic-Air-Humidifier-Double-Spray-Essential-Oil-Diffuser-Home-Office-Room-LED-Light-Cool-Mist-Maker-Air-Purifier-US-Plug/652758922\n",
      "https://i5.walmartimages.com/asr/dcdee6a2-a043-4419-b85b-45ee15b30ebc_1.068746191a8c1467b21c3518d6794a5d.jpeg?odnHeight=200&odnWidth=200&odnBg=ffffff\n",
      "WALFRONT 3L Ultrasonic Air Humidifier Double Spray Essential Oil Diffuser Home Office Room LED Light Cool Mist Maker Air Purifier US Plug\n",
      "4.4\n",
      "13 reviews\n",
      "$32.88\n",
      "https://www.walmart.com/ip/Therapure-TPP220M-HEPA-Type-Air-Purifier-70-sq-ft-Room-Capacity-Black-ION90TP220TBK1W/145704147\n",
      "https://i5.walmartimages.com/asr/124ad06c-989a-4b03-92d0-35f4cde84d21_1.39911a8da385b1d48fd986b71633bbb7.jpeg?odnHeight=200&odnWidth=200&odnBg=ffffff\n",
      "Therapure TPP220M HEPA-Type Air Purifier, 70 sq ft Room Capacity, Black -ION90TP220TBK1W\n",
      "0.0\n"
     ]
    },
    {
     "ename": "AttributeError",
     "evalue": "'NoneType' object has no attribute 'text'",
     "output_type": "error",
     "traceback": [
      "\u001b[0;31m---------------------------------------------------------------------------\u001b[0m",
      "\u001b[0;31mAttributeError\u001b[0m                            Traceback (most recent call last)",
      "\u001b[0;32m<ipython-input-28-88f04d4bdfd8>\u001b[0m in \u001b[0;36m<module>\u001b[0;34m()\u001b[0m\n\u001b[1;32m     15\u001b[0m     \u001b[0mprint\u001b[0m\u001b[0;34m(\u001b[0m\u001b[0mstars_review\u001b[0m\u001b[0;34m)\u001b[0m\u001b[0;34m\u001b[0m\u001b[0;34m\u001b[0m\u001b[0m\n\u001b[1;32m     16\u001b[0m \u001b[0;34m\u001b[0m\u001b[0m\n\u001b[0;32m---> 17\u001b[0;31m     \u001b[0mreview_amount\u001b[0m \u001b[0;34m=\u001b[0m \u001b[0mproduct\u001b[0m\u001b[0;34m.\u001b[0m\u001b[0mfind\u001b[0m\u001b[0;34m(\u001b[0m\u001b[0;34m'span'\u001b[0m\u001b[0;34m,\u001b[0m \u001b[0mclass_\u001b[0m\u001b[0;34m=\u001b[0m\u001b[0;34m'seo-review-count visuallyhidden'\u001b[0m\u001b[0;34m)\u001b[0m\u001b[0;34m.\u001b[0m\u001b[0mtext\u001b[0m\u001b[0;34m\u001b[0m\u001b[0;34m\u001b[0m\u001b[0m\n\u001b[0m\u001b[1;32m     18\u001b[0m     \u001b[0mprint\u001b[0m\u001b[0;34m(\u001b[0m\u001b[0;34mf\"{review_amount} reviews\"\u001b[0m\u001b[0;34m)\u001b[0m\u001b[0;34m\u001b[0m\u001b[0;34m\u001b[0m\u001b[0m\n\u001b[1;32m     19\u001b[0m \u001b[0;34m\u001b[0m\u001b[0m\n",
      "\u001b[0;31mAttributeError\u001b[0m: 'NoneType' object has no attribute 'text'"
     ]
    }
   ],
   "source": [
    "for product in products:\n",
    "\n",
    "    link = product.find('a')\n",
    "    href = link['href']\n",
    "    product_link = 'https://www.walmart.com' + href\n",
    "    print(product_link)\n",
    "\n",
    "    img = product.find('img')['src']\n",
    "    print(img)\n",
    "\n",
    "    product_title = product.find('img')['alt']\n",
    "    print(product_title)\n",
    "\n",
    "    stars_review = product.find('span', class_='visuallyhidden seo-avg-rating').text   \n",
    "    print(stars_review)\n",
    "    \n",
    "    review_amount = product.find('span', class_='seo-review-count visuallyhidden').text\n",
    "    print(f\"{review_amount} reviews\")\n",
    "\n",
    "    price = product.find('span', class_=s'price-main')\n",
    "    current_price = price.find('span', class_='visuallyhidden').text\n",
    "    print(current_price)\n",
    "\n",
    "#     browser.click_link_by_partial_href(href)\n",
    "\n",
    "#     browser.quit()\n"
   ]
  },
  {
   "cell_type": "code",
   "execution_count": null,
   "metadata": {},
   "outputs": [],
   "source": [
    "review = soup.find('div', class_='CustomerReviews-list')\n",
    "print(review)"
   ]
  },
  {
   "cell_type": "code",
   "execution_count": null,
   "metadata": {},
   "outputs": [],
   "source": [
    "soup.execute_script(\"window.scrollTo(0, document.body.scrollHeight);\")"
   ]
  },
  {
   "cell_type": "code",
   "execution_count": null,
   "metadata": {},
   "outputs": [],
   "source": []
  }
 ],
 "metadata": {
  "kernelspec": {
   "display_name": "Python 3",
   "language": "python",
   "name": "python3"
  },
  "language_info": {
   "codemirror_mode": {
    "name": "ipython",
    "version": 3
   },
   "file_extension": ".py",
   "mimetype": "text/x-python",
   "name": "python",
   "nbconvert_exporter": "python",
   "pygments_lexer": "ipython3",
   "version": "3.6.9"
  }
 },
 "nbformat": 4,
 "nbformat_minor": 2
}
