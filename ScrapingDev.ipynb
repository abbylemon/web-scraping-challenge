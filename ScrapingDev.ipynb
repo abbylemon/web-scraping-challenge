{
 "cells": [
  {
   "cell_type": "code",
   "execution_count": 2,
   "metadata": {},
   "outputs": [],
   "source": [
    "from bs4 import BeautifulSoup\n",
    "from splinter import Browser\n",
    "from webdriver_manager.chrome import ChromeDriverManager\n",
    "import time"
   ]
  },
  {
   "cell_type": "code",
   "execution_count": 2,
   "metadata": {},
   "outputs": [
    {
     "name": "stdout",
     "output_type": "stream",
     "text": [
      "/usr/local/bin/chromedriver\r\n"
     ]
    }
   ],
   "source": [
    "!which chromedriver"
   ]
  },
  {
   "cell_type": "code",
   "execution_count": 3,
   "metadata": {},
   "outputs": [
    {
     "name": "stderr",
     "output_type": "stream",
     "text": [
      "[WDM] - Current google-chrome version is 83.0.4103\n",
      "[WDM] - Get LATEST driver version for 83.0.4103\n",
      "[WDM] - Get LATEST driver version for 83.0.4103\n"
     ]
    },
    {
     "name": "stdout",
     "output_type": "stream",
     "text": [
      " \n"
     ]
    },
    {
     "name": "stderr",
     "output_type": "stream",
     "text": [
      "[WDM] - Trying to download new driver from http://chromedriver.storage.googleapis.com/83.0.4103.39/chromedriver_mac64.zip\n",
      "[WDM] - Driver has been saved in cache [/Users/abby/.wdm/drivers/chromedriver/mac64/83.0.4103.39]\n"
     ]
    }
   ],
   "source": [
    "executable_path = {'executable_path': ChromeDriverManager().install()}\n",
    "browser = Browser('chrome', **executable_path)\n",
    "browser = Browser('chrome', **executable_path, headless=False)\n",
    "# browser = Browser('chrome')"
   ]
  },
  {
   "cell_type": "code",
   "execution_count": 13,
   "metadata": {},
   "outputs": [],
   "source": [
    "base_url = 'https://www.walmart.com'\n",
    "search_url = '/search/?query=room%20air%20purifier'\n",
    "browser.visit(base_url + search_url)"
   ]
  },
  {
   "cell_type": "code",
   "execution_count": 12,
   "metadata": {},
   "outputs": [],
   "source": [
    "html = browser.html\n",
    "soup = BeautifulSoup(html, 'html.parser')"
   ]
  },
  {
   "cell_type": "code",
   "execution_count": 6,
   "metadata": {},
   "outputs": [],
   "source": [
    "products = soup.find_all('div', class_='search-result-gridview-item')"
   ]
  },
  {
   "cell_type": "code",
   "execution_count": null,
   "metadata": {},
   "outputs": [
    {
     "name": "stdout",
     "output_type": "stream",
     "text": [
      "https://www.walmart.com/ip/Filtrete-by-3M-Room-Air-Purifier-Console-110-Sq-ft-coverage-Black-HEPA-Type-Allergen-Filter-Included/475820314\n",
      "https://i5.walmartimages.com/asr/eae28c2f-5dbe-4a96-b30c-c381a64b056e_1.572259f55119e41bb4d69602667a85b0.jpeg?odnHeight=200&odnWidth=200&odnBg=ffffff\n",
      "Filtrete by 3M Room Air Purifier, Console, 110 Sq ft coverage, Black, HEPA-Type Allergen Filter Included\n",
      "4.5\n",
      "172 reviews\n",
      "https://www.walmart.com/ip/Filtrete-by-3M-Room-Air-Purifier-Console-110-Sq-ft-coverage-Black-HEPA-Type-Allergen-Filter-Included/475820314#customer-reviews\n",
      "$49.94\n",
      "https://www.walmart.com/ip/Honeywell-HEPA-Allergen-Remover-Air-Purifier-Reduces-up-to-99-9-of-certain-viruses-bacteria-and-mold-spores-HPA300-Black/37770927\n",
      "https://i5.walmartimages.com/asr/3574cc6b-93c9-4c02-89c2-6756d204fe09_1.7e49f59e7cbf1e7f786efa3a5d450e56.jpeg?odnHeight=200&odnWidth=200&odnBg=ffffff\n",
      "Honeywell HEPA Allergen Remover Air Purifier, Reduces up to 99.9% of certain viruses, bacteria and mold spores*, HPA300, Black\n",
      "4.6\n",
      "232 reviews\n",
      "https://www.walmart.com/ip/Honeywell-HEPA-Allergen-Remover-Air-Purifier-Reduces-up-to-99-9-of-certain-viruses-bacteria-and-mold-spores-HPA300-Black/37770927#customer-reviews\n",
      "$216.58\n",
      "https://www.walmart.com/ip/Filtrete-by-3M-Room-Air-Purifier-Medium-Room-Console-160-Sq-ft-Coverage-Black-HEPA-Type-Allergen-Filter-Included/127887719\n",
      "https://i5.walmartimages.com/asr/610a6cda-e89f-45a7-ad21-17c6c7a290db_1.ef36004d17708544b33aa0b32566df69.jpeg?odnHeight=200&odnWidth=200&odnBg=ffffff\n",
      "Filtrete by 3M Room Air Purifier, Medium Room Console, 160 Sq ft Coverage, Black, HEPA-Type Allergen Filter Included\n",
      "4.6\n",
      "75 reviews\n",
      "https://www.walmart.com/ip/Filtrete-by-3M-Room-Air-Purifier-Medium-Room-Console-160-Sq-ft-Coverage-Black-HEPA-Type-Allergen-Filter-Included/127887719#customer-reviews\n",
      "$79.88\n"
     ]
    }
   ],
   "source": [
    "for product in products:\n",
    "\n",
    "    link = product.find('a')\n",
    "    href = link['href']\n",
    "    product_link = base_url + href\n",
    "    print(product_link)\n",
    "\n",
    "    img = product.find('img')['src']\n",
    "    print(img)\n",
    "\n",
    "    product_title = product.find('img')['alt']\n",
    "    print(product_title)\n",
    "\n",
    "    stars_review = product.find('span', class_='visuallyhidden seo-avg-rating').text   \n",
    "    print(stars_review)\n",
    "    \n",
    "    review_amount = product.find('span', class_='seo-review-count visuallyhidden').text\n",
    "    print(f\"{review_amount} reviews\")\n",
    "    \n",
    "    review_url = product.find('div', class_='stars').find('a')['href']\n",
    "    print(base_url + review_url)\n",
    "\n",
    "    price = product.find('span', class_='price-main')\n",
    "    current_price = price.find('span', class_='visuallyhidden').text\n",
    "    print(current_price)\n",
    "    \n",
    "    browser.visit(base_url + review_url)\n",
    "\n",
    "#     browser.click_link_by_partial_href(href)\n",
    "\n",
    "#     browser.quit()\n"
   ]
  },
  {
   "cell_type": "code",
   "execution_count": 9,
   "metadata": {},
   "outputs": [
    {
     "name": "stdout",
     "output_type": "stream",
     "text": [
      "None\n"
     ]
    }
   ],
   "source": [
    "review = soup.find('div', class_='CustomerReviews-list')\n",
    "print(review)"
   ]
  },
  {
   "cell_type": "code",
   "execution_count": null,
   "metadata": {},
   "outputs": [],
   "source": [
    "soup.execute_script(\"window.scrollTo(0, document.body.scrollHeight);\")"
   ]
  },
  {
   "cell_type": "code",
   "execution_count": null,
   "metadata": {},
   "outputs": [],
   "source": []
  }
 ],
 "metadata": {
  "kernelspec": {
   "display_name": "Python 3",
   "language": "python",
   "name": "python3"
  },
  "language_info": {
   "codemirror_mode": {
    "name": "ipython",
    "version": 3
   },
   "file_extension": ".py",
   "mimetype": "text/x-python",
   "name": "python",
   "nbconvert_exporter": "python",
   "pygments_lexer": "ipython3",
   "version": "3.6.9"
  }
 },
 "nbformat": 4,
 "nbformat_minor": 2
}
